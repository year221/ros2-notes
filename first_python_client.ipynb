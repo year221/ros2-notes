{
 "cells": [
  {
   "cell_type": "markdown",
   "metadata": {},
   "source": [
    "# Writing first Python client\n",
    "run the docker image and map the home direcotry\n",
    "```\n",
    "docker run -it osrf/ros:jazzy-desktop\n",
    "docker run -it \\\n",
    "    --name ros2_dev \\\n",
    "    -v ./ros2_ws:/root/ros2_ws \\\n",
    "    osrf/ros:jazzy-desktop\n",
    "```"
   ]
  },
  {
   "cell_type": "markdown",
   "metadata": {},
   "source": [
    "# Quick way\n",
    "Instead of following the tutorial [https://docs.ros.org/en/jazzy/Tutorials/Beginner-Client-Libraries/Writing-A-Simple-Py-Publisher-And-Subscriber.html] to initailize and _install_ packages into ros2, we could simply run the code in the shell\n",
    "at `cwd=/root/ros2_ws`\n",
    "```\n",
    "export ROS_DOMAIN_ID=3 \n",
    "python3 /root/ros2_ws/src/py_pubsub/py_pubsub/publisher.py\n",
    "```\n",
    "This starts publishing to topic `/topic`\n",
    "\n",
    "sListening the topic would show the content\n",
    "```\n",
    "ros2 topic echo /topic\n",
    "```\n",
    "```\n",
    "data: 'Hello World: 1161'"
   ]
  },
  {
   "cell_type": "markdown",
   "metadata": {},
   "source": [
    "\n",
    "# Following the tutorial\n",
    "The following step follows the tutorial [https://docs.ros.org/en/jazzy/Tutorials/Beginner-Client-Libraries/Writing-A-Simple-Py-Publisher-And-Subscriber.html], \n",
    "but we no longer to recreate the example and initalize the pkg as they are in the current repo.\n",
    "\n",
    "We can start from the build and install. \n",
    "In the container, at `cwd=/root/ros2_ws`\n",
    "```\n",
    "rosdep install -i --from-path src --rosdistro jazzy -y\n",
    "colcon build --packages-select py_pubsub\n",
    "source install/setup.bash\n",
    "```\n",
    "\n",
    "Run the publisher \n",
    "```\n",
    "export ROS_DOMAIN_ID=3 \n",
    "ros2 run py_pubsub talker\n",
    "```\n",
    "\n",
    "This talker publishes to the topic `/topic`. \n",
    "In a different terminal, e.g., running \n",
    "```\n",
    "docker exec -it ros2_dev /bin/bash\n",
    "source ./ros_entrypoint.sh\n",
    "export ROS_DOMAIN_ID=3 \n",
    "```\n",
    "\n",
    "` ros2 topic list ` shows a topic `/topic`\n",
    "\n",
    "listening the topic would show the content\n",
    "```\n",
    "ros2 topic echo /topic\n",
    "```\n",
    "```\n",
    "data: 'Hello World: 1161'"
   ]
  }
 ],
 "metadata": {
  "language_info": {
   "name": "python"
  }
 },
 "nbformat": 4,
 "nbformat_minor": 2
}
