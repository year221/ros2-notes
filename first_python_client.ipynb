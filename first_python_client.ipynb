{
 "cells": [
  {
   "cell_type": "markdown",
   "metadata": {},
   "source": [
    "# Writing first Python client\n",
    "run the docker image and map the home direcotry\n",
    "```\n",
    "docker run -it osrf/ros:jazzy-desktop\n",
    "docker run -it \\\n",
    "    --name ros2_dev \\\n",
    "    -v ./ros2_ws:/root/ros2_ws \\\n",
    "    osrf/ros:jazzy-desktop\n",
    "```\n",
    "\n",
    "## no need to run the following\n",
    "initialize pkg using ros2\n",
    "```\n",
    "ros2 pkg create --build-type ament_python --license Apache-2.0 py_pubsub\n",
    "cd py_pubsub/py_pubsub\n",
    "```\n",
    "download code example\n",
    "```\n",
    "curl https://raw.githubusercontent.com/ros2/examples/jazzy/rclpy/topics/minimal_publisher/examples_rclpy_minimal_publisher/publisher_member_function.py -o publisher_.py\n"
   ]
  },
  {
   "cell_type": "markdown",
   "metadata": {},
   "source": []
  }
 ],
 "metadata": {
  "language_info": {
   "name": "python"
  }
 },
 "nbformat": 4,
 "nbformat_minor": 2
}
