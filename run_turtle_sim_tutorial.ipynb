{
 "cells": [
  {
   "cell_type": "markdown",
   "metadata": {},
   "source": [
    "# Run Turtlesim \n",
    "\n",
    "The turtlesim example in the (tutorial)[https://docs.ros.org/en/jazzy/Tutorials/Beginner-CLI-Tools/Introducing-Turtlesim/Introducing-Turtlesim.html] uses a Qt window to display. In order to set this up on MacOS, follow (this)[https://cyb3rh3b.medium.com/running-qt-application-using-docker-on-macos-x-ad2e9d34532a]\n",
    "- the X-window system. We use (Xquartz)[https://www.xquartz.org/] port for MacOS\n",
    "- Use `socat`\n",
    "We need to map Qt to the local computer\n",
    "``` set up socat\n",
    "socat TCP-LISTEN:6000,reuseaddr,fork UNIX-CLIENT:\\\"$DISPLAY\\\"\n",
    "```\n",
    "\n",
    "Run ros docker container with port mapping:\n",
    "```\n",
    "IP=$(ifconfig en0 | grep inet | awk '$1==\"inet\" {print $2}')\n",
    "xhost + $IP;\n",
    "docker run -it \\\n",
    "    -e DISPLAY=$IP:0 \\\n",
    "    --name ros2_dev \\\n",
    "    -v ./ros2_ws:/root/ros2_ws \\\n",
    "    -v /tmp/.X11-unix:/tmp/.X11-unix:rw \\\n",
    "    osrf/ros:jazzy-desktop\n",
    "```\n"
   ]
  },
  {
   "cell_type": "markdown",
   "metadata": {},
   "source": [
    "To run the another terminal for turtlesim, we can just do:\n",
    "```\n",
    "docker exec -it ros2_dev /bin/bash\n",
    "```\n",
    "```\n",
    "source /opt/ros/jazzy/setup.sh\n",
    "ros2 run turtlesim turtle_teleop_key\n",
    "```"
   ]
  },
  {
   "cell_type": "markdown",
   "metadata": {},
   "source": [
    "The X11 mapping also now support `rqt`. Inside of the docker, we just need to execute\n",
    "```\n",
    "rqt\n",
    "```"
   ]
  }
 ],
 "metadata": {
  "language_info": {
   "name": "python"
  }
 },
 "nbformat": 4,
 "nbformat_minor": 2
}
