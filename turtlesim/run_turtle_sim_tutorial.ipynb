{
 "cells": [
  {
   "cell_type": "markdown",
   "metadata": {},
   "source": [
    "# Run Turtlesim \n",
    "\n",
    "The turtlesim example in the (tutorial)[https://docs.ros.org/en/jazzy/Tutorials/Beginner-CLI-Tools/Introducing-Turtlesim/Introducing-Turtlesim.html] uses a Qt window to display. In order to set this up on MacOS, follow (this)[https://cyb3rh3b.medium.com/running-qt-application-using-docker-on-macos-x-ad2e9d34532a]\n",
    "- the X-window system. We use (Xquartz)[https://www.xquartz.org/] port for MacOS\n",
    "- Use `socat`\n",
    "We need to map Qt to the local computer\n",
    "``` set up socat\n",
    "socat TCP-LISTEN:6000,reuseaddr,fork UNIX-CLIENT:\\\"$DISPLAY\\\"\n",
    "```\n",
    "\n",
    "Run ros docker container with port mapping:\n",
    "```\n",
    "IP=$(ifconfig en0 | grep inet | awk '$1==\"inet\" {print $2}')\n",
    "xhost + $IP;\n",
    "docker run -it \\\n",
    "    -e DISPLAY=$IP:0 \\\n",
    "    --name ros2_dev \\\n",
    "    -v ./ros2_ws:/root/ros2_ws \\\n",
    "    -v /tmp/.X11-unix:/tmp/.X11-unix:rw \\\n",
    "    osrf/ros:jazzy-desktop\n",
    "```\n"
   ]
  },
  {
   "cell_type": "markdown",
   "metadata": {},
   "source": [
    "To run the another terminal for turtlesim, we can just do:\n",
    "```\n",
    "docker exec -it ros2_dev /bin/bash\n",
    "```\n",
    "```\n",
    "source /opt/ros/jazzy/setup.sh\n",
    "ros2 run turtlesim turtle_teleop_key\n",
    "```"
   ]
  },
  {
   "cell_type": "markdown",
   "metadata": {},
   "source": [
    "The X11 mapping also now support `rqt`. Inside of the docker, we just need to execute\n",
    "```\n",
    "rqt\n",
    "```"
   ]
  },
  {
   "cell_type": "markdown",
   "metadata": {},
   "source": [
    "## Examine Actions\n",
    "\n",
    "The turtle sim have the following action for a turtle\n",
    "```\n",
    "ros2 action list\n",
    "/turtle1/rotate_absolute\n",
    "```\n",
    "```\n",
    "# ros2 action info /turtle1/rotate_absolute\n",
    "Action: /turtle1/rotate_absolute\n",
    "Action clients: 1\n",
    "    /teleop_turtle\n",
    "Action servers: 1\n",
    "    /turtlesim \n",
    "```\n",
    "To rotate the turtle to vertical, use\n",
    "```\n",
    "ros2 action send_goal /turtle1/rotate_absolute turtlesim/action/RotateAbsolute \"{theta: 1.57}\"\n",
    "```\n",
    "where `theta` is in radians. \n",
    "\n",
    "We now turn the turtle to horizontal, below are the command and response\n",
    "```\n",
    "# ros2 action send_goal /turtle1/rotate_absolute turtlesim/action/RotateAbsolute \"{theta: 0}\"\n",
    "Waiting for an action server to become available...\n",
    "Sending goal:\n",
    "     theta: 0.0\n",
    "\n",
    "Goal accepted with ID: 5235a2bd256b4de9b80ebb3c8f25df4c\n",
    "\n",
    "Result:\n",
    "    delta: 1.5679999589920044\n",
    "```"
   ]
  },
  {
   "cell_type": "markdown",
   "metadata": {},
   "source": [
    "# Examining Services\n",
    "We can list the services here: \n",
    "```\n",
    "ros2 service list\n",
    "```\n",
    "For example, we see `/turtle1/set_pen` in the return. We can call this action to set the width to 10, for example.\n",
    "\n",
    "```\n",
    "ros2 service call /turtle1/set_pen turtlesim/srv/SetPen \"{width: 10}\"\n",
    "```\n",
    "\n",
    "Below is screen shot with a different width and color \n",
    "\n",
    "![Turtle Sim Screenshot](turtle_sim_screen_shot.png)"
   ]
  },
  {
   "cell_type": "markdown",
   "metadata": {},
   "source": []
  }
 ],
 "metadata": {
  "language_info": {
   "name": "python"
  }
 },
 "nbformat": 4,
 "nbformat_minor": 2
}
