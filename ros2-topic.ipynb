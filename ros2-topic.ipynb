{
 "cells": [
  {
   "cell_type": "markdown",
   "metadata": {},
   "source": [
    "# Experiment with ROS2\n",
    "\n",
    "My computer runs MACOS on an Apple M4 chip.  \n",
    "Following the guide [https://docs.ros.org/en/jazzy/How-To-Guides/Run-2-nodes-in-single-or-separate-docker-containers.html],\n",
    "I run the following docker image: \n",
    "```\n",
    "$docker run -it osrf/ros:jazzy-desktop\n",
    "root@<container-id>:/#\n",
    "```\n"
   ]
  },
  {
   "cell_type": "markdown",
   "metadata": {},
   "source": [
    "The entry point of this docker is at (check `docker inspect osrf/ros:jazzy-desktop`)\n",
    "```\n",
    "/ros_entrypoint.sh\n",
    "```\n",
    "\n",
    "This eventually points to `/opt/ros/jazzy/setup.sh`"
   ]
  },
  {
   "cell_type": "code",
   "execution_count": null,
   "metadata": {
    "vscode": {
     "languageId": "plaintext"
    }
   },
   "outputs": [],
   "source": []
  },
  {
   "cell_type": "markdown",
   "metadata": {},
   "source": [
    "Following the guide, I run the talker and listener in the running container\n",
    "```\n",
    "ros2 run demo_nodes_cpp listener &\n",
    "ros2 run demo_nodes_cpp talker\n",
    "```\n",
    "This output something like this:\n",
    "```\n",
    "[INFO] [1742874368.767564671] [talker]: Publishing: 'Hello World: 581'\n",
    "[INFO] [1742874368.768511379] [listener]: I heard: [Hello World: 581]\n",
    "[INFO] [1742874369.763508797] [talker]: Publishing: 'Hello World: 582'\n",
    "[INFO] [1742874369.764526338] [listener]: I heard: [Hello World: 582]\n",
    "```\n",
    "\n",
    "From a separate terminal, I get into the same running container and examine its topics\n",
    "```\n",
    "docker exec -it [container_id] /bin/bash\n",
    "```\n",
    "```\n",
    "source /ros_entrypoint.sh \n",
    "```\n",
    "```\n",
    "ros2 topic list\n",
    "```\n",
    "This returns\n",
    "```\n",
    "/chatter\n",
    "/parameter_events\n",
    "/rosout\n",
    "```\n",
    "I checked the chatter topic\n",
    "```\n",
    "ros2 topic echo /chatter\n",
    "```\n",
    "I got\n",
    "```\n",
    "data: 'Hello World: 626'\n",
    "---\n",
    "data: 'Hello World: 627'\n",
    "---\n",
    "data: 'Hello World: 628'\n",
    "---\n",
    "```\n",
    "This is the topic that talker is publishing to.\n",
    "\n",
    "Checking\n",
    "```\n",
    "ros2 topic echo /rosout\n",
    "```\n",
    "```\n",
    "---\n",
    "stamp:\n",
    "  sec: 1742874527\n",
    "  nanosec: 768533384\n",
    "level: 20\n",
    "name: talker\n",
    "msg: 'Publishing: ''Hello World: 740'''\n",
    "file: ./src/topics/talker.cpp\n",
    "function: operator()\n",
    "line: 47\n",
    "---\n",
    "stamp:\n",
    "  sec: 1742874527\n",
    "  nanosec: 769566842\n",
    "level: 20\n",
    "name: listener\n",
    "msg: 'I heard: [Hello World: 740]'\n",
    "file: ./src/topics/listener.cpp\n",
    "function: operator()\n",
    "line: 39\n",
    "---\n",
    "```"
   ]
  },
  {
   "cell_type": "code",
   "execution_count": null,
   "metadata": {
    "vscode": {
     "languageId": "plaintext"
    }
   },
   "outputs": [],
   "source": []
  },
  {
   "cell_type": "markdown",
   "metadata": {},
   "source": []
  }
 ],
 "metadata": {
  "language_info": {
   "name": "python"
  }
 },
 "nbformat": 4,
 "nbformat_minor": 2
}
